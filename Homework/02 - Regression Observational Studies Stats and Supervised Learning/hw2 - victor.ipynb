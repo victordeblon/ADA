{
 "cells": [
  {
   "cell_type": "markdown",
   "id": "c1d0380f",
   "metadata": {},
   "source": [
    "# Homework 2 (HW2)\n",
    "By the end of this homework, we expect you to be able to:\n",
    "\n",
    "- Preprocess data and make it amenable to statistical analysis and machine learning models;\n",
    "- Train and test out-of-the-box machine learning models in Python;\n",
    "- Carry out simple multivariate regression analyses;\n",
    "- Use techniques to control for covariates;\n",
    "- Conduct an observational study and reason about its results.\n",
    "\n",
    "---\n",
    "\n",
    "- Homework release: Fri 17 Nov 2023\t\n",
    "\n",
    "- **Homework Due**: Fri 01 Dec 2023, 23:59\t\n",
    "\n",
    "- Grades released: Mon 11 Dec 2023\t\n",
    "\n",
    "\n",
    "---\n",
    "\n",
    "## Some rules\n",
    "1. You are allowed to use any built-in Python library that comes with Anaconda. If you want to use an external library, you may do so, but must justify your choice.\n",
    "\n",
    "2. Make sure you use the `data` folder provided in the repository in read-only mode. (Or alternatively, be sure you don’t change any of the files.)\n",
    "\n",
    "3. Be sure to provide a concise textual description of your thought process, the assumptions you made, the solution you implemented, and explanations for your answers. A notebook that only has code cells will not suffice.\n",
    "\n",
    "4. For questions containing the **/Discuss:/** prefix, answer not with code, but with a textual explanation **(in markdown)**.\n",
    "\n",
    "5. Back up any hypotheses and claims with data, since this is an important aspect of the course.\n",
    "\n",
    "6. Please write all your comments in **English**, and use meaningful variable names in your code. Your repo should have a single notebook (plus the required data files) in the master/main branch. **If there are multiple notebooks present, we will not grade anything.**\n",
    "\n",
    "7. We will **not run your notebook for you!** Rather, we will grade it as is, which means that only the results contained in your evaluated code cells will be considered, and we will not see the results in unevaluated code cells. Thus, be sure to hand in a **fully-run and evaluated notebook**. In order to check whether everything looks as intended, you can check the rendered notebook on the GitHub website once you have pushed your solution there.\n",
    "\n",
    "8. In continuation to the previous point, interactive plots, such as those generated using the `plotly` package, should be strictly avoided!\n",
    "\n",
    "9. Make sure to print results and/or dataframes that confirm you have properly addressed the task.\n",
    "\n",
    "\n",
    "---"
   ]
  },
  {
   "cell_type": "code",
   "execution_count": 1,
   "id": "68937ccd",
   "metadata": {
    "ExecuteTime": {
     "end_time": "2023-11-17T17:54:27.233757Z",
     "start_time": "2023-11-17T17:54:26.757026Z"
    }
   },
   "outputs": [],
   "source": [
    "import pandas as pd\n",
    "import numpy as np\n",
    "\n",
    "# plotting\n",
    "import seaborn as sns\n",
    "import matplotlib.pyplot as plt\n",
    "\n",
    "# regression / matching\n",
    "import statsmodels.formula.api as smf\n",
    "import networkx as nx\n",
    "\n",
    "# machine lerning\n",
    "from sklearn.model_selection import cross_validate\n",
    "from sklearn.ensemble import GradientBoostingClassifier\n",
    "from sklearn.preprocessing import OneHotEncoder"
   ]
  },
  {
   "cell_type": "markdown",
   "id": "fb04befc",
   "metadata": {},
   "source": [
    "## Context\n",
    "\n",
    "After two years, the EPFL Baseball Club is broke. The new Dean transferred all funds to EPFL's new poster child: its super-competitive Pétanque club. After struggling so much to learn about baseball, you have unfortunately been laid off...\n",
    "\n",
    "*(...) 1 month after, you manage to get another job (!) (...)*\n",
    "\n",
    "Congratulations! You have just been hired as a data scientist at the Association for Computational Linguistics (ACL), a professional organization for people working on natural language processing. The ACL organizes several of the top conferences and workshops in the field of computational linguistics and natural language processing.\n",
    "Your boss, Dr. Tiancheng, knows of your expertise in observational studies and asks you to investigate a question that’s been bothering everyone who has ever submitted a paper to a conference: should I spend time on writing rebuttals?\n",
    "\n",
    "\n",
    "\n",
    "---\n",
    "\n",
    "## Rebuttals, conferences, and getting your papers accepted\n",
    "\n",
    "Rebuttals in ACL (Association for Computational Linguistics) conferences and in many other academic conferences are an important part of the peer-review process. They allow authors of submitted papers to respond to the reviews and comments provided by the reviewers before a final decision is made regarding the acceptance of the paper. Here's how the rebuttal process typically works in ACL conferences:\n",
    "\n",
    "- Paper Submission: Authors submit their research papers to the ACL conference for review. These papers present novel research findings in computational linguistics, natural language processing, and related areas.\n",
    "- Peer Review: The papers undergo a peer-review process after the initial submission. The program committee or reviewers are experts in the field who evaluate the papers based on their quality, significance, novelty, methodology, and other relevant criteria. They provide comments and scores for each paper.\n",
    "- Rebuttal Period: After receiving the reviews, authors are given a specific period (usually around a week) to write a rebuttal. The rebuttal is a formal response to the reviewers' comments. It allows authors to clarify misunderstandings, address concerns, and provide additional information to support their paper's quality. \n",
    "- Final Review: After receiving the rebuttals, the reviewers may reconsider their initial assessments in light of the authors' responses. Reviewers may choose to maintain or adjust their reviews and scores based on the quality and effectiveness of the author's rebuttal.\n",
    "- Final Decision: The program committee or conference organizers consider the initial reviews/scores, rebuttals, and revised reviews/scores to make a final decision on the acceptance of the papers. The decision can be acceptance, rejection, or conditional acceptance with a request for revisions.\n",
    "\n",
    "\n",
    "---\n",
    "\n",
    "## Data\n",
    "\n",
    "- `tmp_id`: Unique identifier for each paper in the format \"P{number}\".\n",
    "- `status`: Accept or Reject.\n",
    "- `submission_type`: Short vs. Long (papers can have different lengths). We do not use this column in this homework. \n",
    "- `track`: Track to which the paper was submitted, broadly speaking, the \"topic\" of the paper.\n",
    "- `scores_before`: Scores received before rebuttal. This is a nested JSON with many fields, but we will use only the \"overall\" score for the homework. \n",
    "- `scores_after`: Scores received after rebuttal. This is a nested JSON with many fields, but we will use only the \"overall\" score for the homework.\n",
    "- `had_rebuttal`: True or False.\n",
    "\n",
    "\n",
    "Note that: \n",
    " - reviews are assigned numbers, e.g., \"2\";\n",
    " - papers can have different numbers of reviews;\n",
    " - review numbers are arbitrary, e.g., `P1` in the dataframe has two reviews numbered \"2\" and \"3\" (but no review \"1\").\n"
   ]
  },
  {
   "cell_type": "markdown",
   "id": "28074a9c",
   "metadata": {},
   "source": [
    "## Task 1 (10 pts): Get to Know Your Data\n",
    "\n",
    "As a good data scientist, you first load the data and perform some small sanity checks on it.\n",
    "\n",
    "- You are expected to continuously alter your dataframe as you complete the tasks. E.g., if you are asked to filter the data in a specific task, continue using the filtered dataset in the subsequent tasks.\n",
    "- When we tell you to \"print the dataframe,\" make sure you print it in a way that shows the total number of rows and columns in it (`display(df)` should suffice)."
   ]
  },
  {
   "cell_type": "markdown",
   "id": "9d6ab063",
   "metadata": {},
   "source": [
    "**1.1** Load the dataset containing ACL reviews into memory using pandas. \n",
    "- For each paper, create columns `overall_score_before_avg` and `overall_score_after_avg` containing the average (overall) scores before and after rebuttal.\n",
    "- For each paper, create columns `overall_score_before_std` and `overall_score_after_std` containing the standard deviation of the overall scores before and after the rebuttal.\n",
    "- Print the four newly created columns for paper `P17`.\n",
    "- Print the resulting dataframe."
   ]
  },
  {
   "cell_type": "code",
   "execution_count": 2,
   "id": "fc16d047",
   "metadata": {},
   "outputs": [
    {
     "name": "stdout",
     "output_type": "stream",
     "text": [
      "Relevant data from paper P17:\n",
      "    overall_score_before_avg  overall_score_before_std  \\\n",
      "16                       4.5                  0.707107   \n",
      "\n",
      "    overall_score_after_avg  overall_score_after_std  \n",
      "16                      4.5                 0.707107  \n",
      "\n",
      "Size of data frame (number of rows, number of columns): (1538, 11)\n"
     ]
    },
    {
     "data": {
      "text/html": [
       "<div>\n",
       "<style scoped>\n",
       "    .dataframe tbody tr th:only-of-type {\n",
       "        vertical-align: middle;\n",
       "    }\n",
       "\n",
       "    .dataframe tbody tr th {\n",
       "        vertical-align: top;\n",
       "    }\n",
       "\n",
       "    .dataframe thead th {\n",
       "        text-align: right;\n",
       "    }\n",
       "</style>\n",
       "<table border=\"1\" class=\"dataframe\">\n",
       "  <thead>\n",
       "    <tr style=\"text-align: right;\">\n",
       "      <th></th>\n",
       "      <th>tmp_id</th>\n",
       "      <th>status</th>\n",
       "      <th>submission_type</th>\n",
       "      <th>track</th>\n",
       "      <th>scores_before</th>\n",
       "      <th>scores_after</th>\n",
       "      <th>had_rebuttal</th>\n",
       "      <th>overall_score_before_avg</th>\n",
       "      <th>overall_score_before_std</th>\n",
       "      <th>overall_score_after_avg</th>\n",
       "      <th>overall_score_after_std</th>\n",
       "    </tr>\n",
       "  </thead>\n",
       "  <tbody>\n",
       "    <tr>\n",
       "      <th>0</th>\n",
       "      <td>P1</td>\n",
       "      <td>Reject</td>\n",
       "      <td>Long</td>\n",
       "      <td>Machine Learning</td>\n",
       "      <td>{'2': {'scores': {'originality': 2, 'soundness...</td>\n",
       "      <td>{'2': {'scores': {'originality': 2, 'soundness...</td>\n",
       "      <td>True</td>\n",
       "      <td>2.500000</td>\n",
       "      <td>0.707107</td>\n",
       "      <td>2.500000</td>\n",
       "      <td>0.707107</td>\n",
       "    </tr>\n",
       "    <tr>\n",
       "      <th>1</th>\n",
       "      <td>P2</td>\n",
       "      <td>Reject</td>\n",
       "      <td>Long</td>\n",
       "      <td>Question Answering</td>\n",
       "      <td>{'1': {'scores': {'originality': 2, 'soundness...</td>\n",
       "      <td>{'1': {'scores': {'originality': 2, 'soundness...</td>\n",
       "      <td>True</td>\n",
       "      <td>3.333333</td>\n",
       "      <td>1.154701</td>\n",
       "      <td>3.333333</td>\n",
       "      <td>1.154701</td>\n",
       "    </tr>\n",
       "    <tr>\n",
       "      <th>2</th>\n",
       "      <td>P3</td>\n",
       "      <td>Accept</td>\n",
       "      <td>Short</td>\n",
       "      <td>Multidisciplinary and Area Chair COI</td>\n",
       "      <td>{'1': {'scores': {'originality': 4, 'soundness...</td>\n",
       "      <td>{'1': {'scores': {'originality': 4, 'soundness...</td>\n",
       "      <td>True</td>\n",
       "      <td>4.666667</td>\n",
       "      <td>0.577350</td>\n",
       "      <td>4.666667</td>\n",
       "      <td>0.577350</td>\n",
       "    </tr>\n",
       "    <tr>\n",
       "      <th>3</th>\n",
       "      <td>P4</td>\n",
       "      <td>Reject</td>\n",
       "      <td>Short</td>\n",
       "      <td>Machine Learning</td>\n",
       "      <td>{'1': {'scores': {'originality': 2, 'soundness...</td>\n",
       "      <td>{'1': {'scores': {'originality': 2, 'soundness...</td>\n",
       "      <td>True</td>\n",
       "      <td>3.000000</td>\n",
       "      <td>1.000000</td>\n",
       "      <td>2.666667</td>\n",
       "      <td>1.527525</td>\n",
       "    </tr>\n",
       "    <tr>\n",
       "      <th>4</th>\n",
       "      <td>P5</td>\n",
       "      <td>Reject</td>\n",
       "      <td>Long</td>\n",
       "      <td>Document Analysis</td>\n",
       "      <td>{'2': {'scores': {'originality': 2, 'soundness...</td>\n",
       "      <td>{'2': {'scores': {'originality': 2, 'soundness...</td>\n",
       "      <td>True</td>\n",
       "      <td>3.000000</td>\n",
       "      <td>NaN</td>\n",
       "      <td>2.500000</td>\n",
       "      <td>0.707107</td>\n",
       "    </tr>\n",
       "    <tr>\n",
       "      <th>...</th>\n",
       "      <td>...</td>\n",
       "      <td>...</td>\n",
       "      <td>...</td>\n",
       "      <td>...</td>\n",
       "      <td>...</td>\n",
       "      <td>...</td>\n",
       "      <td>...</td>\n",
       "      <td>...</td>\n",
       "      <td>...</td>\n",
       "      <td>...</td>\n",
       "      <td>...</td>\n",
       "    </tr>\n",
       "    <tr>\n",
       "      <th>1540</th>\n",
       "      <td>P1541</td>\n",
       "      <td>Reject</td>\n",
       "      <td>Short</td>\n",
       "      <td>Textual Inference and Other Areas of Semantics</td>\n",
       "      <td>{'1': {'scores': {'originality': 2, 'soundness...</td>\n",
       "      <td>{'1': {'scores': {'originality': 2, 'soundness...</td>\n",
       "      <td>True</td>\n",
       "      <td>2.333333</td>\n",
       "      <td>0.577350</td>\n",
       "      <td>2.333333</td>\n",
       "      <td>0.577350</td>\n",
       "    </tr>\n",
       "    <tr>\n",
       "      <th>1541</th>\n",
       "      <td>P1542</td>\n",
       "      <td>Reject</td>\n",
       "      <td>Long</td>\n",
       "      <td>Machine Learning</td>\n",
       "      <td>{'1': {'scores': {'originality': 2, 'soundness...</td>\n",
       "      <td>{'1': {'scores': {'originality': 2, 'soundness...</td>\n",
       "      <td>False</td>\n",
       "      <td>2.000000</td>\n",
       "      <td>1.000000</td>\n",
       "      <td>2.000000</td>\n",
       "      <td>1.000000</td>\n",
       "    </tr>\n",
       "    <tr>\n",
       "      <th>1542</th>\n",
       "      <td>P1543</td>\n",
       "      <td>Reject</td>\n",
       "      <td>Long</td>\n",
       "      <td>Machine Learning</td>\n",
       "      <td>{'1': {'scores': {'originality': 3, 'soundness...</td>\n",
       "      <td>{'1': {'scores': {'originality': 3, 'soundness...</td>\n",
       "      <td>True</td>\n",
       "      <td>2.666667</td>\n",
       "      <td>1.154701</td>\n",
       "      <td>2.666667</td>\n",
       "      <td>1.154701</td>\n",
       "    </tr>\n",
       "    <tr>\n",
       "      <th>1543</th>\n",
       "      <td>P1544</td>\n",
       "      <td>Reject</td>\n",
       "      <td>Short</td>\n",
       "      <td>Social Media</td>\n",
       "      <td>{'1': {'scores': {'originality': 2, 'soundness...</td>\n",
       "      <td>{'1': {'scores': {'originality': 2, 'soundness...</td>\n",
       "      <td>False</td>\n",
       "      <td>2.000000</td>\n",
       "      <td>0.000000</td>\n",
       "      <td>2.000000</td>\n",
       "      <td>0.000000</td>\n",
       "    </tr>\n",
       "    <tr>\n",
       "      <th>1544</th>\n",
       "      <td>P1545</td>\n",
       "      <td>Reject</td>\n",
       "      <td>Short</td>\n",
       "      <td>Information Extraction and Text Mining</td>\n",
       "      <td>{'1': {'scores': {'originality': 3, 'soundness...</td>\n",
       "      <td>{'1': {'scores': {'originality': 3, 'soundness...</td>\n",
       "      <td>True</td>\n",
       "      <td>3.000000</td>\n",
       "      <td>1.000000</td>\n",
       "      <td>3.000000</td>\n",
       "      <td>1.000000</td>\n",
       "    </tr>\n",
       "  </tbody>\n",
       "</table>\n",
       "<p>1538 rows × 11 columns</p>\n",
       "</div>"
      ],
      "text/plain": [
       "     tmp_id  status submission_type  \\\n",
       "0        P1  Reject            Long   \n",
       "1        P2  Reject            Long   \n",
       "2        P3  Accept           Short   \n",
       "3        P4  Reject           Short   \n",
       "4        P5  Reject            Long   \n",
       "...     ...     ...             ...   \n",
       "1540  P1541  Reject           Short   \n",
       "1541  P1542  Reject            Long   \n",
       "1542  P1543  Reject            Long   \n",
       "1543  P1544  Reject           Short   \n",
       "1544  P1545  Reject           Short   \n",
       "\n",
       "                                               track  \\\n",
       "0                                   Machine Learning   \n",
       "1                                 Question Answering   \n",
       "2               Multidisciplinary and Area Chair COI   \n",
       "3                                   Machine Learning   \n",
       "4                                  Document Analysis   \n",
       "...                                              ...   \n",
       "1540  Textual Inference and Other Areas of Semantics   \n",
       "1541                                Machine Learning   \n",
       "1542                                Machine Learning   \n",
       "1543                                    Social Media   \n",
       "1544          Information Extraction and Text Mining   \n",
       "\n",
       "                                          scores_before  \\\n",
       "0     {'2': {'scores': {'originality': 2, 'soundness...   \n",
       "1     {'1': {'scores': {'originality': 2, 'soundness...   \n",
       "2     {'1': {'scores': {'originality': 4, 'soundness...   \n",
       "3     {'1': {'scores': {'originality': 2, 'soundness...   \n",
       "4     {'2': {'scores': {'originality': 2, 'soundness...   \n",
       "...                                                 ...   \n",
       "1540  {'1': {'scores': {'originality': 2, 'soundness...   \n",
       "1541  {'1': {'scores': {'originality': 2, 'soundness...   \n",
       "1542  {'1': {'scores': {'originality': 3, 'soundness...   \n",
       "1543  {'1': {'scores': {'originality': 2, 'soundness...   \n",
       "1544  {'1': {'scores': {'originality': 3, 'soundness...   \n",
       "\n",
       "                                           scores_after  had_rebuttal  \\\n",
       "0     {'2': {'scores': {'originality': 2, 'soundness...          True   \n",
       "1     {'1': {'scores': {'originality': 2, 'soundness...          True   \n",
       "2     {'1': {'scores': {'originality': 4, 'soundness...          True   \n",
       "3     {'1': {'scores': {'originality': 2, 'soundness...          True   \n",
       "4     {'2': {'scores': {'originality': 2, 'soundness...          True   \n",
       "...                                                 ...           ...   \n",
       "1540  {'1': {'scores': {'originality': 2, 'soundness...          True   \n",
       "1541  {'1': {'scores': {'originality': 2, 'soundness...         False   \n",
       "1542  {'1': {'scores': {'originality': 3, 'soundness...          True   \n",
       "1543  {'1': {'scores': {'originality': 2, 'soundness...         False   \n",
       "1544  {'1': {'scores': {'originality': 3, 'soundness...          True   \n",
       "\n",
       "      overall_score_before_avg  overall_score_before_std  \\\n",
       "0                     2.500000                  0.707107   \n",
       "1                     3.333333                  1.154701   \n",
       "2                     4.666667                  0.577350   \n",
       "3                     3.000000                  1.000000   \n",
       "4                     3.000000                       NaN   \n",
       "...                        ...                       ...   \n",
       "1540                  2.333333                  0.577350   \n",
       "1541                  2.000000                  1.000000   \n",
       "1542                  2.666667                  1.154701   \n",
       "1543                  2.000000                  0.000000   \n",
       "1544                  3.000000                  1.000000   \n",
       "\n",
       "      overall_score_after_avg  overall_score_after_std  \n",
       "0                    2.500000                 0.707107  \n",
       "1                    3.333333                 1.154701  \n",
       "2                    4.666667                 0.577350  \n",
       "3                    2.666667                 1.527525  \n",
       "4                    2.500000                 0.707107  \n",
       "...                       ...                      ...  \n",
       "1540                 2.333333                 0.577350  \n",
       "1541                 2.000000                 1.000000  \n",
       "1542                 2.666667                 1.154701  \n",
       "1543                 2.000000                 0.000000  \n",
       "1544                 3.000000                 1.000000  \n",
       "\n",
       "[1538 rows x 11 columns]"
      ]
     },
     "metadata": {},
     "output_type": "display_data"
    }
   ],
   "source": [
    "def extract_overall_scores_and_compute(df, score_column):\n",
    "\n",
    "    #Extract the 'overall_score' from the given column and calculate the mean and standard deviation.\n",
    "    \n",
    "    avg_scores = []\n",
    "    std_scores = []\n",
    "\n",
    "    for index, row in df.iterrows():\n",
    "        overall_scores = []\n",
    "        for reviewer, details in row[score_column].items():            \n",
    "            overall_score = details['scores'].get('overall_score')\n",
    "            if overall_score is not None:\n",
    "                overall_scores.append(overall_score)\n",
    "\n",
    "        # Calculate the mean score and standard deviation\n",
    "        avg_scores.append(np.mean(overall_scores) if overall_scores else None)\n",
    "        std_scores.append(np.std(overall_scores, ddof=1) if len(overall_scores) > 1 else None)  # sample standard deviation\n",
    "\n",
    "    return avg_scores, std_scores\n",
    "\n",
    "# Load data\n",
    "file_path = './data/acl18_v1_numerical_final.json' \n",
    "df = pd.read_json(file_path)\n",
    "\n",
    "# Extract and calculate overall scores\n",
    "df['overall_score_before_avg'], df['overall_score_before_std'] = extract_overall_scores_and_compute(df, 'scores_before')\n",
    "df['overall_score_after_avg'], df['overall_score_after_std'] = extract_overall_scores_and_compute(df, 'scores_after')\n",
    "\n",
    "# Print the relevant columns of paper P17\n",
    "p17_data = df[df['tmp_id'] == 'P17'][['overall_score_before_avg', 'overall_score_before_std', 'overall_score_after_avg', 'overall_score_after_std']]\n",
    "print(\"Relevant data from paper P17:\")\n",
    "print(p17_data)\n",
    "\n",
    "print(\"\\nSize of data frame (number of rows, number of columns): \" + str(df.shape))\n",
    "\n",
    "display(df)"
   ]
  },
  {
   "cell_type": "markdown",
   "id": "0075ebff",
   "metadata": {},
   "source": [
    "**1.2** Create a single plot with 14 inches of width and 4 inches of height. The plot should contain two panels: \n",
    "- **Panel A**: The distribution of `overall_score_before_avg` for papers that were accepted and papers that were rejected.\n",
    "- **Panel B**: The distribution of `overall_score_before_avg` for papers that had rebuttals vs. papers that did not."
   ]
  },
  {
   "cell_type": "code",
   "execution_count": 3,
   "id": "9cf71b5c",
   "metadata": {},
   "outputs": [
    {
     "data": {
      "image/png": "[encoded data removed]",
      "text/plain": [
       "<Figure size 1400x400 with 2 Axes>"
      ]
     },
     "metadata": {},
     "output_type": "display_data"
    }
   ],
   "source": [
    "import matplotlib.pyplot as plt\n",
    "import seaborn as sns\n",
    "\n",
    "# Setting the size of the chart\n",
    "plt.figure(figsize=(14, 4))\n",
    "\n",
    "# Panel A: Distribution of accepted and rejected papers\n",
    "plt.subplot(1, 2, 1)\n",
    "sns.histplot(data=df, x='overall_score_before_avg', hue='status', kde=True)\n",
    "plt.title('Panel A: Distribution of accepted vs. rejected papers')\n",
    "\n",
    "# Panel B: Distribution of papers with and without rebuttals\n",
    "plt.subplot(1, 2, 2)  \n",
    "sns.histplot(data=df, x='overall_score_before_avg', hue='had_rebuttal', kde=True)\n",
    "plt.title('Panel B: Distribution of papers with rebuttal vs. no rebuttal')\n",
    "\n",
    "plt.show()"
   ]
  },
  {
   "cell_type": "markdown",
   "id": "bea160c7",
   "metadata": {},
   "source": [
    "**1.3** **/Discuss/:** If you know a paper had a rebuttal, is it more or less likely that it was accepted? Does this mean that rebuttals help papers get accepted? Explain why or why not, providing a concrete example."
   ]
  },
  {
   "cell_type": "markdown",
   "id": "e4a5dcfd",
   "metadata": {},
   "source": [
    "**From data, we can observe a correlation between whether a paper had a rebuttal and whether it was accepted. However, this does not directly imply a causal relationship.**\n",
    "\n",
    "**Analyzing Correlation:** If the data shows that papers with rebuttals are more likely to be accepted, this indicates a correlation between the two. This can be determined by comparing the acceptance rates of papers with and without rebuttals.\n",
    "\n",
    "**Exploring Causation:** Even with a correlation, one cannot directly conclude that rebuttals help papers get accepted. There could be other variables influencing the outcome, such as:\n",
    "\n",
    "    Quality of the Paper: Higher quality papers might inherently have a higher likelihood of acceptance, and -authors of \n",
    "    these papers might also be more inclined to submit rebuttals.\n",
    "\n",
    "    Initial Reviews by Referees: If a paper's initial reviews are borderline (close to the acceptance threshold), authors \n",
    "    might be more motivated to submit a rebuttal.\n",
    "\n",
    "    Quality of the Rebuttal: Not all rebuttals are effective. Some may be more thorough and persuasive than others.\n",
    "\n",
    "**Conclusion:** While there may be a correlation between rebuttals and paper acceptance, we cannot assert from this data alone that rebuttals are the direct cause of acceptance. To accurately determine causation, a more in-depth analysis is needed, considering additional variables and potential confounding factors. Without further evidence, we can only state that there is a certain correlation between rebuttals and acceptance."
   ]
  },
  {
   "cell_type": "markdown",
   "id": "87836f37",
   "metadata": {},
   "source": [
    "**1.4** Print the percentage of rebuttals per track in the conference (defined by the `track` column). \n",
    "\n",
    "**/Discuss:/** Using \"the logic\" of hypothesis testing (see slide 29 of Lecture 4), how would you devise a statistical test to refute the following null hypothesis: all tracks have the same fraction of papers with rebuttals. Your statistical test should consider all categories at once, rather than comparing the fraction of rebuttals between pairs of categories."
   ]
  },
  {
   "cell_type": "code",
   "execution_count": 4,
   "id": "e2471dbe",
   "metadata": {},
   "outputs": [
    {
     "name": "stdout",
     "output_type": "stream",
     "text": [
      "track\n",
      "Dialogue and Interactive Systems                                77.5281\n",
      "Discourse and Pragmatics                                        80.4348\n",
      "Document Analysis                                               73.0000\n",
      "Generation                                                      77.9661\n",
      "Information Extraction and Text Mining                          76.8362\n",
      "Linguistic Theories Cognitive Modeling and Psycholinguistics    75.0000\n",
      "Machine Learning                                                80.8696\n",
      "Machine Translation                                             82.0755\n",
      "Multidisciplinary and Area Chair COI                            68.0000\n",
      "Multilinguality                                                 80.6452\n",
      "Phonology Morphology and Word Segmentation                      85.1852\n",
      "Question Answering                                              72.8395\n",
      "Resources and Evaluation                                        73.2394\n",
      "Sentence-level semantics                                        78.8889\n",
      "Sentiment Analysis and Argument Mining                          78.8235\n",
      "Social Media                                                    73.7705\n",
      "Summarization                                                   74.5098\n",
      "Tagging Chunking Syntax and Parsing                             77.0492\n",
      "Textual Inference and Other Areas of Semantics                  77.1930\n",
      "Vision Robotics Multimodal Grounding and Speech                 81.1321\n",
      "Word-level Semantics                                            86.0759\n",
      "Name: had_rebuttal, dtype: float64\n"
     ]
    }
   ],
   "source": [
    "# Calculating the percentage of rebuttals per track\n",
    "rebuttal_percentages = df.groupby('track')['had_rebuttal'].mean().mul(100).round(4)\n",
    "\n",
    "# Printing the percentages\n",
    "print(rebuttal_percentages)"
   ]
  },
  {
   "cell_type": "markdown",
   "id": "8edb1648",
   "metadata": {},
   "source": [
    "To test the null hypothesis that all tracks have the same fraction of papers with rebuttals, we need a statistical test that considers all categories (tracks) simultaneously. One appropriate test for this is the Chi-Square Test of Independence.\n",
    "\n",
    "**Test Description:**\n",
    "\n",
    "    1.Null Hypothesis (H0): The fraction of papers with rebuttals is the same across all tracks.\n",
    "    2.Alternative Hypothesis (H1): At least one track has a different fraction of papers with rebuttals compared to others.\n",
    "**Steps:**\n",
    "    \n",
    "    1.Create a Contingency Table: The table should have tracks as rows and two columns representing the counts of papers with and without rebuttals for each track.\n",
    "    2.Apply the Chi-Square Test: Use the contingency table to perform the test. The test will compare the observed counts of papers with and without rebuttals in each track to the counts expected if the null hypothesis were true.\n",
    "    3.Evaluate the P-Value: Determine the significance of the result using a chosen alpha level (e.g., 0.05). A p-value less than alpha would lead to rejecting the null hypothesis, suggesting that the fraction of papers with rebuttals is not the same across all tracks."
   ]
  },
  {
   "cell_type": "markdown",
   "id": "50275647",
   "metadata": {},
   "source": [
    "## Task 2 (10pts): Prediction\n",
    "\n",
    "You decide to investigate further the effect of rebuttals on acceptance using your machine learning skills."
   ]
  },
  {
   "cell_type": "markdown",
   "id": "578baafa",
   "metadata": {},
   "source": [
    "\n",
    "**2.1** For each possible value in the `track` column, create a new column called {track}-onehot (e.g., for track=Generation, create Generation-onehot). Collectively, these new columns should \"one hot-encode\" the track column---for instance, if for a given paper the `track` column is filled with the value \"Generation\", the Generation-onehot column should equal 1 and all other {track}-onehot columns should equal 0. \n",
    "\n",
    "Print the column names of the resulting dataframe."
   ]
  },
  {
   "cell_type": "code",
   "execution_count": 5,
   "id": "c1c97281",
   "metadata": {},
   "outputs": [
    {
     "name": "stdout",
     "output_type": "stream",
     "text": [
      "Index(['tmp_id', 'status', 'submission_type', 'track', 'scores_before',\n",
      "       'scores_after', 'had_rebuttal', 'overall_score_before_avg',\n",
      "       'overall_score_before_std', 'overall_score_after_avg',\n",
      "       'overall_score_after_std',\n",
      "       'track_Dialogue and Interactive Systems-onehot',\n",
      "       'track_Discourse and Pragmatics-onehot',\n",
      "       'track_Document Analysis-onehot', 'track_Generation-onehot',\n",
      "       'track_Information Extraction and Text Mining-onehot',\n",
      "       'track_Linguistic Theories Cognitive Modeling and Psycholinguistics-onehot',\n",
      "       'track_Machine Learning-onehot', 'track_Machine Translation-onehot',\n",
      "       'track_Multidisciplinary and Area Chair COI-onehot',\n",
      "       'track_Multilinguality-onehot',\n",
      "       'track_Phonology Morphology and Word Segmentation-onehot',\n",
      "       'track_Question Answering-onehot',\n",
      "       'track_Resources and Evaluation-onehot',\n",
      "       'track_Sentence-level semantics-onehot',\n",
      "       'track_Sentiment Analysis and Argument Mining-onehot',\n",
      "       'track_Social Media-onehot', 'track_Summarization-onehot',\n",
      "       'track_Tagging Chunking Syntax and Parsing-onehot',\n",
      "       'track_Textual Inference and Other Areas of Semantics-onehot',\n",
      "       'track_Vision Robotics Multimodal Grounding and Speech-onehot',\n",
      "       'track_Word-level Semantics-onehot'],\n",
      "      dtype='object')\n"
     ]
    }
   ],
   "source": [
    "# Initializing the OneHotEncoder\n",
    "encoder = OneHotEncoder(sparse_output=False, drop=None)\n",
    "\n",
    "# Fitting and transforming the 'track' column\n",
    "track_encoded = encoder.fit_transform(df[['track']])\n",
    "\n",
    "# Creating a DataFrame from the encoded data\n",
    "track_encoded_df = pd.DataFrame(track_encoded, columns=encoder.get_feature_names_out(['track']))\n",
    "\n",
    "# Renaming columns to the format \"{track}-onehot\"\n",
    "track_encoded_df.columns = [f'{col}-onehot' for col in track_encoded_df.columns]\n",
    "\n",
    "# Merge the one-hot encoded columns back to the main DataFrame\n",
    "df = pd.concat([df.reset_index(drop=True), track_encoded_df.reset_index(drop=True)], axis=1)\n",
    "\n",
    "# Print the column names of the resulting DataFrame\n",
    "print(df.columns)"
   ]
  },
  {
   "cell_type": "markdown",
   "id": "55aa41ea",
   "metadata": {},
   "source": [
    "\n",
    "**2.2** Create a column `had_rebuttal_int`, which equals 1 if the paper had a rebuttal, and 0 otherwise, and a column `accepted_int`, which equals 1 if the paper was accepted, and 0 otherwise. "
   ]
  },
  {
   "cell_type": "code",
   "execution_count": 6,
   "id": "1c8a4227",
   "metadata": {},
   "outputs": [],
   "source": [
    "# Convert 'had_rebuttal' to integers (1 if True, 0 if False)\n",
    "df['had_rebuttal_int'] = df['had_rebuttal'].astype(int)\n",
    "\n",
    "# Convert 'status' to integers (1 if 'Accept', 0 if 'Reject')\n",
    "df['accepted_int'] = (df['status'] == 'Accept').astype(int)"
   ]
  },
  {
   "cell_type": "markdown",
   "id": "c5806400",
   "metadata": {},
   "source": [
    "**2.3** Create a function `numpy_helper(df, cols)` to obtain a numpy.array out of your dataframe. The function should receive a dataframe `df` with N rows and a list of M columns `cols`, and should return a `np.array` of dimension `(NxM)` cast as a float."
   ]
  },
  {
   "cell_type": "code",
   "execution_count": 7,
   "id": "d000e5b7",
   "metadata": {},
   "outputs": [],
   "source": [
    "def numpy_helper(df, cols):\n",
    "    \"\"\"\n",
    "    Extract specified columns from a DataFrame and return them as a NumPy array.\n",
    "    \n",
    "    :param df: pandas DataFrame from which to extract data.\n",
    "    :param cols: List of column names to extract.\n",
    "    :return: NumPy array of extracted data, cast as float.\n",
    "    \"\"\"\n",
    "    return df[cols].values.astype(float)"
   ]
  },
  {
   "cell_type": "markdown",
   "id": "85dad455",
   "metadata": {},
   "source": [
    "\n",
    "**2.4**\n",
    "Create:\n",
    "- an array of features X containing all track one-hot features, as well as the `overall_score_before_avg`,`overall_score_before_std`, and `had_rebuttal_int`;\n",
    "- an array of outcomes y containing `accepted_int`. \n",
    "\n",
    "\n",
    "Print the shapes of both X and y (e.g., `X.shape`)."
   ]
  },
  {
   "cell_type": "code",
   "execution_count": 8,
   "id": "a817ece8",
   "metadata": {},
   "outputs": [
    {
     "name": "stdout",
     "output_type": "stream",
     "text": [
      "Shape of X: (1538, 24)\n",
      "Shape of y: (1538,)\n"
     ]
    }
   ],
   "source": [
    "# Define the one-hot encoded track columns\n",
    "track_onehot_cols = [col for col in df.columns if '-onehot' in col]\n",
    "\n",
    "# Define the feature columns including the one-hot encoded tracks, overall scores, and had_rebuttal_int\n",
    "feature_cols = track_onehot_cols + ['overall_score_before_avg', 'overall_score_before_std', 'had_rebuttal_int']\n",
    "\n",
    "# Prepare the feature matrix X\n",
    "X = df[feature_cols].values.astype(float)\n",
    "\n",
    "# Prepare the outcome vector y\n",
    "y = df['accepted_int'].values.astype(float)\n",
    "\n",
    "# Print the shapes of X and y\n",
    "print(\"Shape of X:\", X.shape)\n",
    "print(\"Shape of y:\", y.shape)"
   ]
  },
  {
   "cell_type": "markdown",
   "id": "efcf79a4",
   "metadata": {},
   "source": [
    "\n",
    "**2.5** Build two `GradientBoostingClassifier` models using `sklearn` using the default parameters:\n",
    "- Model 1: predicts the outcome `accepted_int` using the onehot encoded features related to track, as well as the `overall_score_before_avg`,`overall_score_before_std`.\n",
    "- Model 2:  predicts the outcome `accepted_int` using the onehot encoded features related to track, as well as the `overall_score_before_avg`,`overall_score_before_std` **and** `had_rebuttal_int`.\n",
    "\n",
    "\n",
    "For both models:\n",
    "\n",
    "- Use the `cross_validate` function from `sklearn.model_selection` to compute the average precision, recall, and accuracy across test cross validation splits.\n",
    "\n",
    "    - e.g., `cross_validate(clf, X, y, cv=30, scoring=('accuracy', 'precision', 'recall'))`"
   ]
  },
  {
   "cell_type": "markdown",
   "id": "307824c2",
   "metadata": {},
   "source": [
    "For this task, the `SimpleImputer` package is utilized to handle missing values in the dataset, a necessary step before applying the `GradientBoostingClassifier`. Machine learning models generally cannot process missing values (`NaN`s), which can lead to errors or poor performance. `SimpleImputer` resolves this by replacing missing values with the mean of each column, ensuring data consistency and integrity for the model's training and evaluation. This approach is both straightforward and efficient, making it a standard practice in preparing datasets for machine learning tasks."
   ]
  },
  {
   "cell_type": "code",
   "execution_count": 9,
   "id": "008e907c",
   "metadata": {},
   "outputs": [
    {
     "name": "stdout",
     "output_type": "stream",
     "text": [
      "Average scores for Model 1: {'test_accuracy': 0.8289, 'test_precision': 0.6874, 'test_recall': 0.585}\n",
      "Average scores for Model 2: {'test_accuracy': 0.8263, 'test_precision': 0.6764, 'test_recall': 0.5799}\n"
     ]
    }
   ],
   "source": [
    "from sklearn.impute import SimpleImputer\n",
    "\n",
    "# Define the feature columns for both models\n",
    "track_onehot_cols = [col for col in df.columns if '-onehot' in col]\n",
    "features_common = track_onehot_cols + ['overall_score_before_avg', 'overall_score_before_std']\n",
    "features_model_2 = features_common + ['had_rebuttal_int']\n",
    "\n",
    "# Imputer to fill NaN values\n",
    "imputer = SimpleImputer(strategy='mean')\n",
    "\n",
    "# Prepare the feature sets for both models\n",
    "X_model_1 = imputer.fit_transform(df[features_common].values.astype(float))\n",
    "X_model_2 = imputer.fit_transform(df[features_model_2].values.astype(float))\n",
    "\n",
    "# Initialize the Gradient Boosting Classifier models\n",
    "clf_model_1 = GradientBoostingClassifier()\n",
    "clf_model_2 = GradientBoostingClassifier()\n",
    "\n",
    "# Cross-validation for Model 1\n",
    "cv_results_model_1 = cross_validate(clf_model_1, X_model_1, y, cv=30, scoring=('accuracy', 'precision', 'recall'))\n",
    "average_scores_model_1 = {metric: np.mean(scores) for metric, scores in cv_results_model_1.items() if metric.startswith('test_')}\n",
    "\n",
    "# Cross-validation for Model 2\n",
    "cv_results_model_2 = cross_validate(clf_model_2, X_model_2, y, cv=30, scoring=('accuracy', 'precision', 'recall'))\n",
    "average_scores_model_2 = {metric: np.mean(scores) for metric, scores in cv_results_model_2.items() if metric.startswith('test_')}\n",
    "\n",
    "# Print the average scores for both models\n",
    "print(\"Average scores for Model 1:\", {k: round(v, 4) for k, v in average_scores_model_1.items()})\n",
    "print(\"Average scores for Model 2:\", {k: round(v, 4) for k, v in average_scores_model_2.items()})\n"
   ]
  },
  {
   "cell_type": "markdown",
   "id": "2abba6d4",
   "metadata": {},
   "source": [
    "\n",
    "**2.6** Determine whether the difference in accuracy of the two models is statistically significant.\n"
   ]
  },
  {
   "cell_type": "markdown",
   "id": "e07fa1ab",
   "metadata": {},
   "source": [
    "For this part of the task, we import `ttest_rel` from `scipy.stats` to perform a paired t-test, which is crucial for evaluating the statistical significance of the difference in accuracy between the two Gradient Boosting Classifier models. A paired t-test is appropriate here because it compares two related samples: the accuracies of two models tested on the same dataset. This test helps determine if any observed difference in model performance is due to chance or is statistically significant. The t-test's p-value, when compared against a chosen significance level (alpha = 0.05 here), indicates whether the difference in accuracies is statistically meaningful. This statistical method is essential for robustly validating the impact of including an additional feature (`had_rebuttal_int`) in the predictive modeling."
   ]
  },
  {
   "cell_type": "code",
   "execution_count": 10,
   "id": "523223c0",
   "metadata": {},
   "outputs": [
    {
     "name": "stdout",
     "output_type": "stream",
     "text": [
      "T-statistic: 0.9414925060218865, P-value: 0.35422976440799125\n",
      "The difference in accuracy is not statistically significant.\n"
     ]
    }
   ],
   "source": [
    "from scipy.stats import ttest_rel\n",
    "\n",
    "# Extract accuracy scores from cross-validation results for both models\n",
    "accuracies_model_1 = cv_results_model_1['test_accuracy']\n",
    "accuracies_model_2 = cv_results_model_2['test_accuracy']\n",
    "\n",
    "# Perform a paired t-test\n",
    "t_statistic, p_value = ttest_rel(accuracies_model_1, accuracies_model_2)\n",
    "\n",
    "# Print the t-statistic and p-value\n",
    "print(f\"T-statistic: {t_statistic}, P-value: {p_value}\")\n",
    "\n",
    "# Interpret the p-value\n",
    "alpha = 0.05  \n",
    "if p_value < alpha:\n",
    "    print(\"The difference in accuracy is statistically significant.\")\n",
    "else:\n",
    "    print(\"The difference in accuracy is not statistically significant.\")"
   ]
  },
  {
   "cell_type": "markdown",
   "id": "9518f2f6",
   "metadata": {},
   "source": [
    "**2.7** **/Discuss:/** Contrast the results obtained in **2.6** with what you observed in **Task 1**. What advantage did the analyses in **2.6** have?"
   ]
  },
  {
   "cell_type": "markdown",
   "id": "884942ed",
   "metadata": {},
   "source": [
    "In Task 1, the focus was on exploratory data analysis, including visualizations and basic statistical summaries. This provided valuable insights into general trends and patterns, such as the distribution of scores and the proportion of papers with rebuttals. However, it was limited to descriptive statistics and lacked a quantifiable measure of the impact of rebuttals on paper acceptance.\n",
    "\n",
    "Contrastingly, in Task 2.6, a more rigorous and quantitative approach was employed. Two machine learning models were built and evaluated using cross-validation, and a statistical test (paired t-test) was conducted to determine the significance of the difference in their accuracies. This approach allowed for a quantitative assessment of the impact of including the `had_rebuttal_int` feature in the prediction of paper acceptance. It provided objective comparison metrics such as precision, recall, and accuracy, offering a multi-faceted view of model performance. The use of a paired t-test for statistical significance testing added a layer of robustness to the analysis, which was absent in Task 1.\n",
    "\n",
    "The advantage of the analyses in Task 2.6 lies in its quantitative assessment, allowing for a more objective and statistically sound evaluation of how rebuttals affect paper acceptance. While Task 1's descriptive analysis offered foundational insights, Task 2.6's predictive modeling and statistical testing provided a deeper, more nuanced understanding of the dataset and the research question. This combination of descriptive and predictive analyses offers a comprehensive view, where each approach complements the other to provide a fuller picture."
   ]
  },
  {
   "cell_type": "markdown",
   "id": "52beb97e",
   "metadata": {},
   "source": [
    "## Task 3 (12pts): Interlude\n"
   ]
  },
  {
   "cell_type": "markdown",
   "id": "f8f56eca",
   "metadata": {},
   "source": [
    "\n",
    "**3.1** Using the formula API from `statsmodels`, estimate the following linear regressions. Report the summary of the models.\n",
    "- `accepted_int ~ had_rebuttal_int`,  \n",
    "- `accepted_int ~ overall_score_after_avg`\n",
    "- `had_rebuttal_int ~ overall_score_before_avg`"
   ]
  },
  {
   "cell_type": "markdown",
   "id": "a4bc5e23",
   "metadata": {},
   "source": [
    "\n",
    "**3.2** **/Discuss:/** Interpret the coefficients associated with the binary independent variable in the above models. Note that independent variables are the ones on the right-handside of the equation.\n",
    "\n",
    "- e.g., in `had_rebuttal_int ~ overall_score_before_avg`, `overall_score_before_avg` is the independent variable.\n",
    "\n"
   ]
  },
  {
   "cell_type": "markdown",
   "id": "eaba81dc",
   "metadata": {},
   "source": [
    "\n",
    "**3.3** **/Discuss:/** describe three correlations you can draw from the previous analysis. Describe their sign (i.e., whether they are positive or negative), and whether they are statistically significant (at the .05 level of significance).\n"
   ]
  },
  {
   "cell_type": "markdown",
   "id": "fa59821c",
   "metadata": {},
   "source": [
    "**3.4** **/Discuss:/** Is the following statement True or False? Justify. \n",
    "\n",
    "- The variable `overall_score_after_avg` explains more of the variance in `accepted_int`than the variable `overall_score_before_avg` explains of `had_rebuttal_int`.\n"
   ]
  },
  {
   "cell_type": "markdown",
   "id": "b405fb7f",
   "metadata": {},
   "source": [
    "\n",
    "**3.5** **/Discuss:/** Create a causal diagram relating the following variables:\n",
    "- \"Sa\": `overall_score_after_avg`\n",
    "- \"Sb\": `overall_score_before_avg`\n",
    "- \"Re\": `had_rebuttal_int`\n",
    "- \"Ac\": `accepted_int`\n",
    "- \"Tr\": `track`\n",
    "\n",
    "\n",
    "When unsure about whether a causal relationship exists, include it in the diagram. E.g., include the arrow corresponding to the key questions around this homework, i.e., `had_rebuttal_int`->`accepted_int`, even though you are investigating whether it exists. \n",
    "\n",
    "You may draw your diagram using text, use Sa/Sb/Re/Ac/Tr to represent the names of the variables, and simply indicate the causal links, one per line.\n",
    "\n",
    "\n",
    "Instead of drawing something like this:\n",
    "![](./dagv.jpeg)\n",
    "\n",
    "Simply write:\n",
    "\n",
    "- Tr->Sb\n",
    "- Tr->Ac\n",
    "- Tr->Re\n",
    "- Ac->Sb\n",
    "- Re->Sb\n",
    "- Sb->Sa\n",
    "\n",
    "---"
   ]
  },
  {
   "cell_type": "markdown",
   "id": "dbe89c00",
   "metadata": {},
   "source": [
    "**3.6** **/Discuss:/** What is the problem of simply comparing the outcomes of papers that had rebuttals with those that did not? Give a concrete example."
   ]
  },
  {
   "cell_type": "markdown",
   "id": "82ed68a4",
   "metadata": {},
   "source": [
    "# Task 4 (12 pts): Observational study\n",
    "\n",
    "You decide to use your observational study skills to obtain a concrete answer to the question: do rebuttals increase acceptance?\n",
    "\n",
    " **4.1** Perform exact one-to-one matching considering the `overall_score_before_avg` and the `track` variables. Each paper that had a rebuttal (\"treatment group\") should be matched to a paper that did not have a rebuttal (\"control group\"). \n",
    "- Your matching should be optimal, i.e., the maximum amount of papers possible must be matched. \n",
    "- Print the dataframe of papers in the matched sample"
   ]
  },
  {
   "cell_type": "markdown",
   "id": "c31c97d1",
   "metadata": {},
   "source": [
    "**4.2** So far, we did not consider the `overall_score_before_std` variable. One could argue that the variance in the scores makes a difference. E.g., a paper that received scores 1 and 5, might be very different from a paper with scores 3 and 3. \n",
    "\n",
    "Note that you did not match on the `overall_score_before_std` variable. However, it suffices if this variable is \"balanced\" across treatment and control groups.\n",
    " Use the Standardized Mean Difference (SMD) to assess whether that's the case.\n",
    "\n",
    "- The standardized mean difference for a variable $x$ and two groups $t$ and $c$ is defined as: $\\frac{| E[x_t] - E[x_c] |}{\\sqrt{Var[x_t] + Var[x_c]}}$\n",
    "\n",
    "- Note that a Standardized Mean Difference smaller than 0.1 suggests that variables are balanced across treatment and control groups.\n"
   ]
  },
  {
   "cell_type": "markdown",
   "id": "042f788c",
   "metadata": {},
   "source": [
    "\n",
    "**4.3** Using the matched sample, estimate the following linear regression: `accepted ~ had_rebuttal_int`.\n"
   ]
  },
  {
   "cell_type": "markdown",
   "id": "21c8423e",
   "metadata": {},
   "source": [
    "\n",
    "**4.4** **/Discuss:/**\n",
    "\n",
    "i. Considering your results obtained in 4.3, and the causal diagram drawn in Task 3: do rebuttals increase the chance of a paper getting accepted? Why are results different from what you obtained in **Task 1?**\n",
    "\n",
    "ii. Why is there no need to include other covariates (e.g., score before) in the regression?"
   ]
  },
  {
   "cell_type": "markdown",
   "id": "e4867ea1",
   "metadata": {},
   "source": [
    "**4.5** **/Discuss:/** Imagine there is another, unobserved variable \"quality\" which captures the true quality of the paper. Suppose quality (\"Qu\") is connected to the DAG you drew in the following ways:\n",
    "- Qu -> Sa\n",
    "- Qu -> Sb\n",
    "- Qu -> Re\n",
    "- Qu -> Ac\n",
    "Assume that\n",
    "- quality can only increase the chances of rebuttals;\n",
    "- quality and the rebuttal can only increase the chance of a paper being accepted.\n",
    "Does this uncontrolled confounder threaten the validity of your findings?\n"
   ]
  }
 ],
 "metadata": {
  "kernelspec": {
   "display_name": "Python 3 (ipykernel)",
   "language": "python",
   "name": "python3"
  },
  "language_info": {
   "codemirror_mode": {
    "name": "ipython",
    "version": 3
   },
   "file_extension": ".py",
   "mimetype": "text/x-python",
   "name": "python",
   "nbconvert_exporter": "python",
   "pygments_lexer": "ipython3",
   "version": "3.9.18"
  }
 },
 "nbformat": 4,
 "nbformat_minor": 5
}

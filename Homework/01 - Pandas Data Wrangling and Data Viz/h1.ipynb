{
 "cells": [
  {
   "cell_type": "markdown",
   "id": "a33e25a2-463a-47b7-9ece-d87800beee03",
   "metadata": {},
   "source": [
    "# Homework 1: A sinister homework\n",
    "\n",
    "By the end of this homework, we expect you to be able to:\n",
    "\n",
    "1. Load data and handle data using pandas;\n",
    "2. Navigate the documentation of Python packages by yourself;\n",
    "3. Filter and tidy up noisy real-world datasets;\n",
    "4. Aggregate your data in different (and hopefully helpful) ways;\n",
    "5. Create meaningful visualizations to analyze the data;\n",
    "6. Communicate your findings in a clear and concise manner\n",
    "\n",
    "\n",
    "---\n",
    "\n",
    "## Important Dates\n",
    "- Homework release: Fri 13 Oct 2023\n",
    "- **Homework due:** Fri 27 Oct 2023, 23:59\n",
    "- Grade release: Mon 06 Nov 2023\n",
    "\n",
    "---\n",
    "\n",
    "## Some rules\n",
    "1. You are allowed to use any built-in Python library that comes with Anaconda. If you want to use an external library, you may do so, but must justify your choice.\n",
    "\n",
    "2. Make sure you use the `data` folder provided in the repository in read-only mode. (Or alternatively, be sure you don’t change any of the files.)\n",
    "\n",
    "3. Be sure to provide a concise textual description of your thought process, the assumptions you made, the solution you implemented, and explanations for your answers. A notebook that only has code cells will not suffice.\n",
    "\n",
    "4. For questions containing the **/Discuss:/** prefix, answer not with code, but with a textual explanation **(in markdown)**.\n",
    "\n",
    "5. Back up any hypotheses and claims with data, since this is an important aspect of the course.\n",
    "\n",
    "6. Please write all your comments in **English**, and use meaningful variable names in your code. Your repo should have a single notebook (plus the required data files) in the master/main branch. **If there are multiple notebooks present, we will not grade anything.**\n",
    "\n",
    "7. We will **not run your notebook for you!** Rather, we will grade it as is, which means that only the results contained in your evaluated code cells will be considered, and we will not see the results in unevaluated code cells. Thus, be sure to hand in a **fully-run and evaluated notebook**. In order to check whether everything looks as intended, you can check the rendered notebook on the GitHub website once you have pushed your solution there.\n",
    "\n",
    "8. In continuation to the previous point, interactive plots, such as those generated using the `plotly` package, should be strictly avoided!\n",
    "\n",
    "9. Make sure to print results and/or dataframes that confirm you have properly addressed the task.\n",
    "\n",
    "\n",
    "---\n",
    "\n",
    "##  Context\n",
    "\n",
    "Congratulations! You have just been hired as a data scientist at \"The ByteBlasters\", EPFL’s amateur baseball club. The team's manager, Mr. Russo, an eccentric millionaire with an innovative plan to dominate the Swiss baseball league, believes hiring left-handed pitchers (the people who throw the ball) will likely boost the team's performance. Yet, he is concerned about money, as he heard left-handed pitchers have historically earned more!\n",
    "\n",
    "He tasked you to investigate this \"sinister\" issue and gave you some openly available data on the birthplace of this beautiful, dynamic sport --- the US.\n",
    "\n",
    "**About the homework.** This homework consists of four tasks. In Task 0, you will familiarize yourself with the rules of baseball. In Task 1, you will process the data, getting it ready for analysis. In Task 2, you will analyze the data to answer Mr. Russo’s question. Lastly, in Task 3, you will conduct additional analyses that consider the longitudinal nature of the data."
   ]
  },
  {
   "cell_type": "code",
   "execution_count": null,
   "id": "20692bb8-890b-4b21-a73b-5d9587129cde",
   "metadata": {
    "tags": []
   },
   "outputs": [],
   "source": [
    "import pandas as pd\n",
    "import numpy as np\n",
    "import matplotlib.pyplot as plt\n",
    "from IPython.display import YouTubeVideo\n"
   ]
  },
  {
   "cell_type": "markdown",
   "id": "daa9a3d0",
   "metadata": {},
   "source": [
    "# Task 0 (Ungraded): Baseball 101\n",
    "\n",
    "**0.1 —** Familiarize yourself with the data; we won't explain the data in-depth in this notebook. Instead, you should take your time to read the readme.txt file inside the data folder. Note that this data is available on [GitHub](https://github.com/chadwickbureau/baseballdatabank).\n",
    "\n",
    "**0.2 —** Familiarize yourself with basic baseball rules. We will explain everything you need to know, but it will be helpful to get a basic understanding of it. Watching the video below should be enough! (Also available [here](https://www.youtube.com/watch?v=WMA8L5OpuDY).)\n",
    "\n",
    "A couple of useful things to remember:\n",
    "- **Pitchers** (try to) throw the ball\n",
    "- **Batters** (try to) hit the ball with the bat\n",
    "- **Catchers** (try to) catch the ball.\n"
   ]
  },
  {
   "cell_type": "code",
   "execution_count": null,
   "id": "0e7c1656",
   "metadata": {},
   "outputs": [],
   "source": [
    "YouTubeVideo('WMA8L5OpuDY', width=800, height=300)"
   ]
  },
  {
   "cell_type": "markdown",
   "id": "a945475b",
   "metadata": {},
   "source": [
    "---\n",
    "\n",
    "# Task 1 (16 pts): Get to Know Your Data\n",
    "\n",
    "As a good data scientist, you first load the data and perform some small sanity checks on it.\n",
    "\n",
    "1. You are expected to continuously alter your dataframe as you complete the tasks. E.g., if you are asked to filter the data in a specific task, continue using the filtered dataset in the subsequent tasks.\n",
    "2. When we tell you to \"print the dataframe,\" make sure you print it in a way that shows the total number of rows and columns in it (`display(df)` should suffice).\n",
    "\n",
    "---"
   ]
  },
  {
   "cell_type": "markdown",
   "id": "d7c6482a",
   "metadata": {},
   "source": [
    "**1.1 —** Load the `People`, `Salaries`, and `Pitching` dataframes. Then:\n",
    "- Filter the `Salaries`, and `Pitching` dataframes to remove all data after the year 2010.\n",
    "- For the `Salaries` dataframe drop all duplicate salaries for players in a given year. In other words, if a player (uniquely identified by `PlayerID`) has multiple salaries in a year (`yearID`), keep the first occurence in the dataframe and drop the remaining.\n",
    "- Calculate the size of each dataframe. \n",
    "\n",
    "Make [deep copies](https://pandas.pydata.org/docs/reference/api/pandas.DataFrame.copy.html) of all dataframes as you filter them.\n",
    "\n",
    "Hints:\n",
    "- 2007 should be included in the data.\n",
    "- 2010 should be included in the data.\n",
    "- 2011 should not be included in the data."
   ]
  },
  {
   "cell_type": "markdown",
   "id": "52aadc50",
   "metadata": {},
   "source": [
    "**1.2 —** The `throws` column in the `People` dataframe indicates, for each player, whether they throw with the left (\"L\") or right hand (\"R\"). Check what values are in the column and drop rows containing any value that is not \"L\" or \"R,\" again, make a deep copy when you filter the dataframe.\n",
    "\n",
    "Hint: Remember NaNs!"
   ]
  },
  {
   "cell_type": "markdown",
   "id": "c0b13ccc",
   "metadata": {},
   "source": [
    "**1.3 —** Merge the `People` dataframe with the `Pitching` dataframe. Your merge should populate the pitching data with statistics about the players. Print the resulting dataframe."
   ]
  },
  {
   "cell_type": "markdown",
   "id": "cf6b613a",
   "metadata": {},
   "source": [
    "**1.4 —** You realize some of the data for the `throws` column is missing! Estimate the percentage of missing data points per year in that column, and show your estimates in a line plot. Additionally, print what percentage of the data was missing in 1892."
   ]
  },
  {
   "cell_type": "markdown",
   "id": "96ede93d",
   "metadata": {},
   "source": [
    "**1.5 —** Filter the dataset you just merged (hereinafter `Pitching-People`) to just contain data from after 1920 (with 1920 included). Do the same with the `Salaries` dataset. Make deep copies of both dataframes as you filter them.\n",
    "\n"
   ]
  },
  {
   "cell_type": "markdown",
   "id": "27131c8e",
   "metadata": {},
   "source": [
    "**1.6 —**  Merge the `Pitching-People` dataframe with the `Salaries` dataframe. Your merge should populate the `Pitching-People` dataframe with statistics about the pitchers'salaries across the years. Note that the `Salaries` dataframe contains the salary **per year.** Print the resulting dataframe."
   ]
  },
  {
   "cell_type": "markdown",
   "id": "0555fd31",
   "metadata": {},
   "source": [
    "**1.7 —** You realize some of the data for the `salary` column is missing! Estimate the percentage of missing data points per year, and show your estimates in a line plot. Additionally, print what percentage of the data was missing in 2002.\n"
   ]
  },
  {
   "cell_type": "markdown",
   "id": "eca3d2cc",
   "metadata": {},
   "source": [
    "**1.8 —** Find and print the first and last year for which there exists any salary data. Filter the resulting, merged dataframe to include only data between these two dates. Again make sure you make a deep copy of the dataframe, and print the resulting dataframe."
   ]
  },
  {
   "cell_type": "markdown",
   "id": "b2352cb9",
   "metadata": {},
   "source": [
    "---\n",
    "\n",
    "# Task 2 (16 pts)\n",
    "\n",
    "Task 1, was a softball? Huh? For Task 2, you will use a dataset similar to what you obtained at the end of Task 1. This code loads it.\n"
   ]
  },
  {
   "cell_type": "code",
   "execution_count": null,
   "id": "11463fe3",
   "metadata": {},
   "outputs": [],
   "source": [
    "# PROVIDED CODE\n",
    "\n",
    "df = pd.read_csv(\"./data/dataset-task-2.csv\")\n",
    "df.head()"
   ]
  },
  {
   "cell_type": "markdown",
   "id": "25ff6e64",
   "metadata": {},
   "source": [
    "Some comments about this dataset:\n",
    "- This is a sample of the dataset obtained in Task 1. \n",
    "- Even if you  did everything correctly for Task 1, this dataframe would contain a different number of rows --- as it is a sample.\n",
    "- This prevent that mistakes made in Task 1 cascade into Tasks 2 and 3.\n",
    "\n",
    "\n",
    "With this data, you will proceed to investigate differences in the salaries and performance of left-handed and right-handed pitchers.\n",
    "\n",
    "---"
   ]
  },
  {
   "cell_type": "markdown",
   "id": "b8ecac1d",
   "metadata": {},
   "source": [
    "**2.1 —** Plot the Complementary cumulative distribution function (CCDF) of salary for left-handed and right-handed athletes. Consider data from all years."
   ]
  },
  {
   "cell_type": "markdown",
   "id": "d41cf3e9",
   "metadata": {},
   "source": [
    "**2.2 —** /Discuss:/ This plot has an issue which severely limits the amount of information one can draw from it. Describe the issue and propose a solution to address it."
   ]
  },
  {
   "cell_type": "markdown",
   "id": "c6cf047a",
   "metadata": {},
   "source": [
    "**2.3 —** Implement the solution proposed by yourself in the previous question."
   ]
  },
  {
   "cell_type": "markdown",
   "id": "9a6f5768",
   "metadata": {},
   "source": [
    "**2.4 —** /Discuss:/ Considering this second version of the plot, describe what the plot shows with regard to the distribution of salaries from left- and right-handed pitchers."
   ]
  },
  {
   "cell_type": "markdown",
   "id": "6042ffd7",
   "metadata": {},
   "source": [
    "**2.5—** Calculate the mean and the 95% confidence interval for the salary of left-handed and right-handed pitchers aggregating data across all years. Print the estimates. Additionally, present the estimates and the confidence intervals in a [point plot](https://seaborn.pydata.org/_images/pointplot_7_0.png). Calculate your confidence intervals using the standard error of the mean and ignoring missing values."
   ]
  },
  {
   "cell_type": "markdown",
   "id": "fb8e91fb",
   "metadata": {},
   "source": [
    "**2.6 —** /Discuss:/ Can you tell whether the difference between the two distributions is statistically significant (at the .05 level of significance) from the image? Why?"
   ]
  },
  {
   "cell_type": "markdown",
   "id": "3e317d60",
   "metadata": {},
   "source": [
    "**2.7 —** Perform a t-test test comparing the salaries of left-handed and right-handed pitchers at the .05 level of significance. Consider data from all years. /Discuss:/ Who earns more?"
   ]
  },
  {
   "cell_type": "markdown",
   "id": "a8bad3cf",
   "metadata": {},
   "source": [
    "---\n",
    "\n",
    "Now, let's turn to analyzing performance. A commonly used metric to evaluate the skill of a pitcher is to look at the batting average of the pitcher’s opponents. According to [Wikipedia](https://en.wikipedia.org/wiki/Batting_average_against),\n",
    "\n",
    "> In baseball statistics, batting average against (denoted by BAA or AVG), also known as opponents' batting average (denoted by OBA), is a statistic that measures a pitcher's ability to prevent hits during official at bats. It can alternatively be described as the league's hitters' combined batting average against the pitcher.\n",
    "\n",
    "The intuition is clear: if you are a pitcher, you do not want the batter actually to hit the ball. Thus, if you are a good pitcher, the opponent batter should miss a lot against you! Conveniently, this is already calculated on a yearly basis in our data.\n",
    "\n",
    "---"
   ]
  },
  {
   "cell_type": "markdown",
   "id": "e89c2cf1",
   "metadata": {},
   "source": [
    "**2.8 —** Considering data from all years, calculate the mean opponents' batting average for left- and right-handed pitchers. Run a t-test test to determine if this difference is statistically significant at the .05 level of significance. **Consider only pitchers in the years during which they have played atleast 5 games.** /Discuss:/ According to this approach, who are the better pitchers? Left-handed or right-handed pitchers?"
   ]
  },
  {
   "cell_type": "markdown",
   "id": "d4af00e9",
   "metadata": {},
   "source": [
    "# Task 3 (18 pts)\n",
    "\n",
    "Before you report your results to Mr. Russo, you decide to run them by your favorite Applied Data Analysis' TA, Ms. Sakota. She seems skeptical! According to her, you should take into account the time variable!"
   ]
  },
  {
   "cell_type": "markdown",
   "id": "8f845533",
   "metadata": {},
   "source": [
    "**3.1 —** Repeat the analysis from tasks 2.7 and 2.8 considering only data from the year 2000. That is, use a t-test to determine the distribution of salaries (2.7) and opponents' batting average (2.8) for all data of the year 2000 only. "
   ]
  },
  {
   "cell_type": "markdown",
   "id": "f31ef97f",
   "metadata": {},
   "source": [
    "**3.2 —** Create a single plot with 14 inches of width and 4 inches of height. The plot should contain three panels:\n",
    "- Panel A: The percentage of left-handed pitchers per year;\n",
    "- Panel B: The average salary of all pitchers per year\n",
    "- Panel C: The average opponents' batting average of all pitchers per year.\n",
    "\n",
    "Additionally, print, for the year 2007:\n",
    "- the percentage of left-handed pitchers.\n",
    "- the average salary.\n",
    "- the average  opponents' batting average."
   ]
  },
  {
   "cell_type": "markdown",
   "id": "388cc0f1",
   "metadata": {},
   "source": [
    "**3.3 —** Create a single plot with 10 inches of width and 4 inches of height. The plot should contain two panels: \n",
    "- Panel A: The average salary for left and right-handed pitchers per year, show 95% confidence intervals in your plot.\n",
    "- Panel B: The average opponents' batting average for left and right-handed pitchers across the years, show 95% confidence intervals in your plot.\n",
    "\n",
    "\n",
    "Additionally, print, for the year 1999:\n",
    "- the average salary of left-handed pitchers.\n",
    "- the average opponents' batting average of right-handed pitchers."
   ]
  },
  {
   "cell_type": "markdown",
   "id": "2e1df840",
   "metadata": {},
   "source": [
    "**3.4 —** /Discuss:/ Contrast the results obtained in Tasks 3.1 / 3.3 / 3.3 with the results obtained in Tasks 2.7 and 2.8. Are left-handed better than right-handed pitchers? Do they earn better salaries? Explain why the analysis might have reached different results."
   ]
  },
  {
   "cell_type": "markdown",
   "id": "8142c160",
   "metadata": {},
   "source": [
    "**3.5 —** Before showing the final results to Mr. Russo, you pass them by Ms. Sakota once more. She looks happier now, but still looks a bit concerned. She asks you to perform a sanity check on the missing data for the period you are considering. Specifically, she is worried that there are significantly more missing salaries for left-handed pitchers or for right-handed pitchers.\n",
    "\n",
    "- Create a plot with 10 inches of width and 4 inches of height. The plot should depict the fraction of missing salary  salary for left and right-handed pitchers per year, show 95% confidence intervals in your plot. \n",
    "- Print the fraction of left-handed pitchers with salary data missing for the year 2002. \n",
    "- /Discuss:/ According to the plot, are there significantly more missing salaries for left-handed pitchers?\n"
   ]
  },
  {
   "cell_type": "markdown",
   "id": "259f7dca",
   "metadata": {},
   "source": [
    "**3.6 –**  /Discuss:/ If 95% of the salaries of right-handed pitchers were missing and none for the left-handed pitchers, what problem could you envision could happen downstream when you analyzed the data?"
   ]
  }
 ],
 "metadata": {
  "kernelspec": {
   "display_name": "Python 3 (ipykernel)",
   "language": "python",
   "name": "python3"
  },
  "language_info": {
   "codemirror_mode": {
    "name": "ipython",
    "version": 3
   },
   "file_extension": ".py",
   "mimetype": "text/x-python",
   "name": "python",
   "nbconvert_exporter": "python",
   "pygments_lexer": "ipython3",
   "version": "3.9.7"
  }
 },
 "nbformat": 4,
 "nbformat_minor": 5
}

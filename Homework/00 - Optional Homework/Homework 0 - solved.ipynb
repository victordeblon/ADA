{
 "cells": [
  {
   "cell_type": "code",
   "execution_count": 1,
   "id": "879ab6ca",
   "metadata": {
    "scrolled": false
   },
   "outputs": [],
   "source": [
    "import pandas as pd\n",
    "import os #os module allows interaction with the operating system, like reading from or writing to the file system.\n",
    "\n"
   ]
  },
  {
   "cell_type": "markdown",
   "id": "0eb1ce53",
   "metadata": {},
   "source": [
    "PATH_IN = './data/': Sets the variable PATH_IN to the string './data/', which represents a directory path where your data is stored.\n",
    "\n",
    "fname = os.path.join(PATH_IN, 'interactive_data.csv'): Uses os.path.join to concatenate the directory path in PATH_IN with the string 'interactive_data.csv', representing the filename. This is used to form a complete file path that is stored in the variable fname."
   ]
  },
  {
   "cell_type": "code",
   "execution_count": 2,
   "id": "e861178a",
   "metadata": {},
   "outputs": [
    {
     "data": {
      "text/html": [
       "<div>\n",
       "<style scoped>\n",
       "    .dataframe tbody tr th:only-of-type {\n",
       "        vertical-align: middle;\n",
       "    }\n",
       "\n",
       "    .dataframe tbody tr th {\n",
       "        vertical-align: top;\n",
       "    }\n",
       "\n",
       "    .dataframe thead th {\n",
       "        text-align: right;\n",
       "    }\n",
       "</style>\n",
       "<table border=\"1\" class=\"dataframe\">\n",
       "  <thead>\n",
       "    <tr style=\"text-align: right;\">\n",
       "      <th></th>\n",
       "      <th>Intent</th>\n",
       "      <th>Gender</th>\n",
       "      <th>Age</th>\n",
       "      <th>Race</th>\n",
       "      <th>Deaths</th>\n",
       "      <th>Population</th>\n",
       "      <th>Rate</th>\n",
       "    </tr>\n",
       "  </thead>\n",
       "  <tbody>\n",
       "    <tr>\n",
       "      <th>1</th>\n",
       "      <td>None selected</td>\n",
       "      <td>None selected</td>\n",
       "      <td>None selected</td>\n",
       "      <td>None selected</td>\n",
       "      <td>33599</td>\n",
       "      <td>316299978</td>\n",
       "      <td>10.6</td>\n",
       "    </tr>\n",
       "    <tr>\n",
       "      <th>2</th>\n",
       "      <td>None selected</td>\n",
       "      <td>None selected</td>\n",
       "      <td>None selected</td>\n",
       "      <td>White</td>\n",
       "      <td>22079</td>\n",
       "      <td>197369634</td>\n",
       "      <td>11.2</td>\n",
       "    </tr>\n",
       "    <tr>\n",
       "      <th>3</th>\n",
       "      <td>None selected</td>\n",
       "      <td>None selected</td>\n",
       "      <td>None selected</td>\n",
       "      <td>Black</td>\n",
       "      <td>7765</td>\n",
       "      <td>38896382</td>\n",
       "      <td>20.0</td>\n",
       "    </tr>\n",
       "    <tr>\n",
       "      <th>4</th>\n",
       "      <td>None selected</td>\n",
       "      <td>None selected</td>\n",
       "      <td>None selected</td>\n",
       "      <td>Hispanic</td>\n",
       "      <td>3007</td>\n",
       "      <td>54049078</td>\n",
       "      <td>5.6</td>\n",
       "    </tr>\n",
       "    <tr>\n",
       "      <th>5</th>\n",
       "      <td>None selected</td>\n",
       "      <td>None selected</td>\n",
       "      <td>None selected</td>\n",
       "      <td>Asian/Pacific Islander</td>\n",
       "      <td>442</td>\n",
       "      <td>16315561</td>\n",
       "      <td>2.7</td>\n",
       "    </tr>\n",
       "  </tbody>\n",
       "</table>\n",
       "</div>"
      ],
      "text/plain": [
       "          Intent         Gender            Age                    Race  \\\n",
       "1  None selected  None selected  None selected           None selected   \n",
       "2  None selected  None selected  None selected                   White   \n",
       "3  None selected  None selected  None selected                   Black   \n",
       "4  None selected  None selected  None selected                Hispanic   \n",
       "5  None selected  None selected  None selected  Asian/Pacific Islander   \n",
       "\n",
       "   Deaths  Population  Rate  \n",
       "1   33599   316299978  10.6  \n",
       "2   22079   197369634  11.2  \n",
       "3    7765    38896382  20.0  \n",
       "4    3007    54049078   5.6  \n",
       "5     442    16315561   2.7  "
      ]
     },
     "execution_count": 2,
     "metadata": {},
     "output_type": "execute_result"
    }
   ],
   "source": [
    "# Averages from 2012 to 2014 \n",
    "PATH_IN = './data/'\n",
    "fname = os.path.join(PATH_IN, 'interactive_data.csv')\n",
    "df = pd.read_csv(fname, index_col=0)\n",
    "df.head(5)"
   ]
  },
  {
   "cell_type": "code",
   "execution_count": 3,
   "id": "17a2053e",
   "metadata": {},
   "outputs": [
    {
     "data": {
      "text/plain": [
       "array(['None selected', 'Suicide', 'Homicide', 'Accident', 'Unknown'],\n",
       "      dtype=object)"
      ]
     },
     "execution_count": 3,
     "metadata": {},
     "output_type": "execute_result"
    }
   ],
   "source": [
    "df['Intent'].unique()"
   ]
  },
  {
   "cell_type": "code",
   "execution_count": 4,
   "id": "df891378",
   "metadata": {},
   "outputs": [
    {
     "data": {
      "text/plain": [
       "array(['None selected', 'Under 15', '15 - 34', '35 - 64', '65+', '5'],\n",
       "      dtype=object)"
      ]
     },
     "execution_count": 4,
     "metadata": {},
     "output_type": "execute_result"
    }
   ],
   "source": [
    "df['Age'].unique()"
   ]
  },
  {
   "cell_type": "code",
   "execution_count": 5,
   "id": "d0372341",
   "metadata": {},
   "outputs": [
    {
     "data": {
      "text/plain": [
       "array(['None selected', 'White', 'Black', 'Hispanic',\n",
       "       'Asian/Pacific Islander', 'Other'], dtype=object)"
      ]
     },
     "execution_count": 5,
     "metadata": {},
     "output_type": "execute_result"
    }
   ],
   "source": [
    "df['Race'].unique()"
   ]
  },
  {
   "cell_type": "code",
   "execution_count": 6,
   "id": "6f864b06",
   "metadata": {},
   "outputs": [
    {
     "data": {
      "text/plain": [
       "array(['None selected', 'Female', 'Male'], dtype=object)"
      ]
     },
     "execution_count": 6,
     "metadata": {},
     "output_type": "execute_result"
    }
   ],
   "source": [
    "df['Gender'].unique()"
   ]
  },
  {
   "cell_type": "markdown",
   "id": "f0905dbc",
   "metadata": {},
   "source": [
    "Note that there are other ways to approach this analysis, the following is one possible correct solution.\n",
    "The file 'interactive_data.csv' contains aggregations across different categorical filters.\n",
    "Specifically, 'None selected' corresponds to the case when a filter is not applied to a column.\n",
    "Thus, such cases correspond to all possible values under that column.\n",
    "For example, if all columns have the entry 'None selected', then this corresponds to an aggregation across all entries.\n",
    "Thus, the first pre-processing step is to remove rows where at least one column has the value 'None selected'."
   ]
  },
  {
   "cell_type": "code",
   "execution_count": 7,
   "id": "d19cb87b",
   "metadata": {},
   "outputs": [],
   "source": [
    "df_filtered = df.loc[~(df=='None selected').any(axis=1)]"
   ]
  },
  {
   "cell_type": "markdown",
   "id": "ebf0a21e",
   "metadata": {},
   "source": [
    "df == 'None selected' will compare every element in the DataFrame df to the string 'None selected' and return a DataFrame of the same shape as df but with True and False indicating where the condition is met.\n",
    "\n",
    "any() function will check along the specified axis (axis=1 refers to rows) and return a Series object representing whether any element is True along the row axis. Essentially, it checks if any element in a row is 'None selected' and returns True or False for each row.\n",
    "\n",
    "~ is a bitwise NOT operator, which inverts the boolean values. So if the .any(axis=1) returned True for a row (meaning 'None selected' was found in that row), the ~ will change it to False, and vice versa.\n",
    "\n",
    ".loc[] indexer is being used to select only the rows where the condition is True, meaning it will contain only rows where 'None selected' is not present in any element of the row. When you pass a single boolean Series to .loc[], it will interpret it as selecting rows where the Series has True values. df.loc[row_selector, column_selector]"
   ]
  },
  {
   "cell_type": "markdown",
   "id": "148978e9",
   "metadata": {},
   "source": [
    "#### Nearly two-thirds of gun deaths are suicides."
   ]
  },
  {
   "cell_type": "code",
   "execution_count": 8,
   "id": "c74eb8e7",
   "metadata": {
    "scrolled": true
   },
   "outputs": [
    {
     "name": "stdout",
     "output_type": "stream",
     "text": [
      "62.68194671826165% of gun deaths are suicides\n"
     ]
    }
   ],
   "source": [
    "all_deaths = df_filtered['Deaths'].sum()\n",
    "suicides = df_filtered[df_filtered['Intent'] == 'Suicide']['Deaths'].sum()\n",
    "\n",
    "print(f'{suicides/all_deaths*100}% of gun deaths are suicides')"
   ]
  },
  {
   "cell_type": "markdown",
   "id": "94226e9c",
   "metadata": {},
   "source": [
    "#### More than 85 percent of suicide victims are male."
   ]
  },
  {
   "cell_type": "code",
   "execution_count": 9,
   "id": "e9316140",
   "metadata": {
    "scrolled": false
   },
   "outputs": [
    {
     "name": "stdout",
     "output_type": "stream",
     "text": [
      "86.24275809668535% of suicide victims are male\n"
     ]
    }
   ],
   "source": [
    "male_suicides = df_filtered[\n",
    "                    (df_filtered['Intent'] == 'Suicide') & \n",
    "                    (df_filtered['Gender'] == 'Male')\n",
    "                ]['Deaths'].sum()\n",
    "\n",
    "print(f'{male_suicides/suicides*100}% of suicide victims are male')"
   ]
  },
  {
   "cell_type": "markdown",
   "id": "32620388",
   "metadata": {},
   "source": [
    "#### Around a third of all gun deaths are homicides."
   ]
  },
  {
   "cell_type": "code",
   "execution_count": 10,
   "id": "7f159107",
   "metadata": {},
   "outputs": [
    {
     "name": "stdout",
     "output_type": "stream",
     "text": [
      "34.906980205387704% of all gun deaths are homicides\n"
     ]
    }
   ],
   "source": [
    "homicides = df_filtered[df_filtered['Intent'] == 'Homicide']['Deaths'].sum()\n",
    "print(f'{homicides/all_deaths*100}% of all gun deaths are homicides')"
   ]
  },
  {
   "cell_type": "markdown",
   "id": "49fcbb7f",
   "metadata": {},
   "source": [
    "#### Around two-thirds of homicide victims who are males in the age-group of 15--34 are black."
   ]
  },
  {
   "cell_type": "code",
   "execution_count": 11,
   "id": "28d7f0eb",
   "metadata": {},
   "outputs": [
    {
     "name": "stdout",
     "output_type": "stream",
     "text": [
      "66.12482748044778% of homicide victims who are males in the age-group 15-34 are black\n"
     ]
    }
   ],
   "source": [
    "young_black_male_homicides = df_filtered[\n",
    "                                        (df_filtered['Intent'] == 'Homicide') & \n",
    "                                        (df_filtered['Gender'] == 'Male') & \n",
    "                                        (df_filtered['Age'] == '15 - 34') &\n",
    "                                        (df_filtered['Race'] == 'Black')\n",
    "                             ]['Deaths'].sum()\n",
    "\n",
    "young_male_homicides = df_filtered[\n",
    "                                  (df_filtered['Intent'] == 'Homicide') & \n",
    "                                  (df_filtered['Gender'] == 'Male') & \n",
    "                                  (df_filtered['Age'] == '15 - 34')\n",
    "                       ]['Deaths'].sum()\n",
    "\n",
    "print(f'''{young_black_male_homicides/young_male_homicides*100}% of homicide victims who are males in the age-group 15-34 are black''')"
   ]
  },
  {
   "cell_type": "markdown",
   "id": "38561de0",
   "metadata": {},
   "source": [
    "#### Women constitue only 15 percent of the total homicide victims."
   ]
  },
  {
   "cell_type": "code",
   "execution_count": 12,
   "id": "74af17cc",
   "metadata": {},
   "outputs": [
    {
     "name": "stdout",
     "output_type": "stream",
     "text": [
      "15.289502856655583% of the total homicide victims are women\n"
     ]
    }
   ],
   "source": [
    "women_homicides = df_filtered[\n",
    "                             (df_filtered['Intent'] == 'Homicide') &\n",
    "                             (df_filtered['Gender'] == 'Female')\n",
    "                    ]['Deaths'].sum()\n",
    "print(f'{women_homicides/homicides*100}% of the total homicide victims are women')"
   ]
  }
 ],
 "metadata": {
  "kernelspec": {
   "display_name": "Python 3 (ipykernel)",
   "language": "python",
   "name": "python3"
  },
  "language_info": {
   "codemirror_mode": {
    "name": "ipython",
    "version": 3
   },
   "file_extension": ".py",
   "mimetype": "text/x-python",
   "name": "python",
   "nbconvert_exporter": "python",
   "pygments_lexer": "ipython3",
   "version": "3.9.18"
  }
 },
 "nbformat": 4,
 "nbformat_minor": 5
}
